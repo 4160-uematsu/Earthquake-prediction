{
 "cells": [
  {
   "cell_type": "code",
   "execution_count": 3,
   "metadata": {},
   "outputs": [],
   "source": [
    "import pandas as pd\n",
    "import numpy as np"
   ]
  },
  {
   "cell_type": "code",
   "execution_count": 4,
   "metadata": {},
   "outputs": [
    {
     "data": {
      "text/plain": [
       "(219949, 8)"
      ]
     },
     "execution_count": 4,
     "metadata": {},
     "output_type": "execute_result"
    }
   ],
   "source": [
    "df=pd.read_csv('地震元データ1997.csv',encoding='shift_jis')\n",
    "df.shape"
   ]
  },
  {
   "cell_type": "code",
   "execution_count": 5,
   "metadata": {
    "scrolled": true
   },
   "outputs": [
    {
     "name": "stdout",
     "output_type": "stream",
     "text": [
      "           地震の発生日  地震の発生時刻    震央地名         緯度          経度      深さ       Ｍ  \\\n",
      "count      219949   219377  219949     219949      219949  219949  219949   \n",
      "unique      32553    66827     305      11492       13078     534      85   \n",
      "top     2016/4/16  0:10:00    詳細不明  36°33.0′N  138°12.0′E    0 km      不明   \n",
      "freq         1225       96   96916      63055       63688  104651  112539   \n",
      "\n",
      "          最大震度  \n",
      "count   219949  \n",
      "unique      12  \n",
      "top        震度１  \n",
      "freq    162026  \n"
     ]
    }
   ],
   "source": [
    "print(df.describe())"
   ]
  },
  {
   "cell_type": "code",
   "execution_count": 6,
   "metadata": {},
   "outputs": [
    {
     "data": {
      "text/html": [
       "<div>\n",
       "<style scoped>\n",
       "    .dataframe tbody tr th:only-of-type {\n",
       "        vertical-align: middle;\n",
       "    }\n",
       "\n",
       "    .dataframe tbody tr th {\n",
       "        vertical-align: top;\n",
       "    }\n",
       "\n",
       "    .dataframe thead th {\n",
       "        text-align: right;\n",
       "    }\n",
       "</style>\n",
       "<table border=\"1\" class=\"dataframe\">\n",
       "  <thead>\n",
       "    <tr style=\"text-align: right;\">\n",
       "      <th></th>\n",
       "      <th>地震の発生日</th>\n",
       "      <th>地震の発生時刻</th>\n",
       "      <th>震央地名</th>\n",
       "      <th>緯度</th>\n",
       "      <th>経度</th>\n",
       "      <th>深さ</th>\n",
       "      <th>Ｍ</th>\n",
       "      <th>最大震度</th>\n",
       "    </tr>\n",
       "  </thead>\n",
       "  <tbody>\n",
       "    <tr>\n",
       "      <th>0</th>\n",
       "      <td>1919/1/11</td>\n",
       "      <td>1:59:50</td>\n",
       "      <td>千葉県南部</td>\n",
       "      <td>35°15.7′N</td>\n",
       "      <td>140°20.5′E</td>\n",
       "      <td>39 km</td>\n",
       "      <td>4</td>\n",
       "      <td>震度２</td>\n",
       "    </tr>\n",
       "    <tr>\n",
       "      <th>1</th>\n",
       "      <td>1919/1/11</td>\n",
       "      <td>9:02:00</td>\n",
       "      <td>詳細不明</td>\n",
       "      <td>32°49.0′N</td>\n",
       "      <td>130°42.0′E</td>\n",
       "      <td>0 km</td>\n",
       "      <td>不明</td>\n",
       "      <td>震度１</td>\n",
       "    </tr>\n",
       "    <tr>\n",
       "      <th>2</th>\n",
       "      <td>1919/1/11</td>\n",
       "      <td>16:59:03</td>\n",
       "      <td>詳細不明</td>\n",
       "      <td>27°06.0′N</td>\n",
       "      <td>142°11.0′E</td>\n",
       "      <td>0 km</td>\n",
       "      <td>不明</td>\n",
       "      <td>震度１</td>\n",
       "    </tr>\n",
       "    <tr>\n",
       "      <th>3</th>\n",
       "      <td>1919/1/11</td>\n",
       "      <td>23:36:09</td>\n",
       "      <td>詳細不明</td>\n",
       "      <td>34°44.0′N</td>\n",
       "      <td>136°31.0′E</td>\n",
       "      <td>0 km</td>\n",
       "      <td>不明</td>\n",
       "      <td>震度１</td>\n",
       "    </tr>\n",
       "    <tr>\n",
       "      <th>4</th>\n",
       "      <td>1919/1/12</td>\n",
       "      <td>22:20:47</td>\n",
       "      <td>長野県南部</td>\n",
       "      <td>35°22.3′N</td>\n",
       "      <td>137°53.3′E</td>\n",
       "      <td>36 km</td>\n",
       "      <td>5.1</td>\n",
       "      <td>震度３</td>\n",
       "    </tr>\n",
       "  </tbody>\n",
       "</table>\n",
       "</div>"
      ],
      "text/plain": [
       "      地震の発生日   地震の発生時刻   震央地名         緯度          経度     深さ    Ｍ 最大震度\n",
       "0  1919/1/11   1:59:50  千葉県南部  35°15.7′N  140°20.5′E  39 km    4  震度２\n",
       "1  1919/1/11   9:02:00   詳細不明  32°49.0′N  130°42.0′E   0 km   不明  震度１\n",
       "2  1919/1/11  16:59:03   詳細不明  27°06.0′N  142°11.0′E   0 km   不明  震度１\n",
       "3  1919/1/11  23:36:09   詳細不明  34°44.0′N  136°31.0′E   0 km   不明  震度１\n",
       "4  1919/1/12  22:20:47  長野県南部  35°22.3′N  137°53.3′E  36 km  5.1  震度３"
      ]
     },
     "execution_count": 6,
     "metadata": {},
     "output_type": "execute_result"
    }
   ],
   "source": [
    "df2=df.head(5)\n",
    "df2"
   ]
  },
  {
   "cell_type": "code",
   "execution_count": 9,
   "metadata": {},
   "outputs": [
    {
     "data": {
      "text/html": [
       "<div>\n",
       "<style scoped>\n",
       "    .dataframe tbody tr th:only-of-type {\n",
       "        vertical-align: middle;\n",
       "    }\n",
       "\n",
       "    .dataframe tbody tr th {\n",
       "        vertical-align: top;\n",
       "    }\n",
       "\n",
       "    .dataframe thead th {\n",
       "        text-align: right;\n",
       "    }\n",
       "</style>\n",
       "<table border=\"1\" class=\"dataframe\">\n",
       "  <thead>\n",
       "    <tr style=\"text-align: right;\">\n",
       "      <th></th>\n",
       "      <th>地震の発生日</th>\n",
       "      <th>地震の発生時刻</th>\n",
       "      <th>震央地名</th>\n",
       "      <th>緯度</th>\n",
       "      <th>経度</th>\n",
       "      <th>深さ</th>\n",
       "      <th>Ｍ</th>\n",
       "      <th>最大震度</th>\n",
       "    </tr>\n",
       "  </thead>\n",
       "  <tbody>\n",
       "    <tr>\n",
       "      <th>0</th>\n",
       "      <td>1919/1/11</td>\n",
       "      <td>1:59:50</td>\n",
       "      <td>千葉県南部</td>\n",
       "      <td>35°15.7′N</td>\n",
       "      <td>140°20.5′E</td>\n",
       "      <td>39 km</td>\n",
       "      <td>4</td>\n",
       "      <td>震度２</td>\n",
       "    </tr>\n",
       "    <tr>\n",
       "      <th>1</th>\n",
       "      <td>1919/1/11</td>\n",
       "      <td>9:02:00</td>\n",
       "      <td>詳細不明</td>\n",
       "      <td>32°49.0′N</td>\n",
       "      <td>130°42.0′E</td>\n",
       "      <td>0 km</td>\n",
       "      <td>不明</td>\n",
       "      <td>震度１</td>\n",
       "    </tr>\n",
       "    <tr>\n",
       "      <th>2</th>\n",
       "      <td>1919/1/11</td>\n",
       "      <td>16:59:03</td>\n",
       "      <td>詳細不明</td>\n",
       "      <td>27°06.0′N</td>\n",
       "      <td>142°11.0′E</td>\n",
       "      <td>0 km</td>\n",
       "      <td>不明</td>\n",
       "      <td>震度１</td>\n",
       "    </tr>\n",
       "  </tbody>\n",
       "</table>\n",
       "</div>"
      ],
      "text/plain": [
       "      地震の発生日   地震の発生時刻   震央地名         緯度          経度     深さ   Ｍ 最大震度\n",
       "0  1919/1/11   1:59:50  千葉県南部  35°15.7′N  140°20.5′E  39 km   4  震度２\n",
       "1  1919/1/11   9:02:00   詳細不明  32°49.0′N  130°42.0′E   0 km  不明  震度１\n",
       "2  1919/1/11  16:59:03   詳細不明  27°06.0′N  142°11.0′E   0 km  不明  震度１"
      ]
     },
     "execution_count": 9,
     "metadata": {},
     "output_type": "execute_result"
    }
   ],
   "source": [
    "df3 = df.head(3)\n",
    "df3"
   ]
  },
  {
   "cell_type": "code",
   "execution_count": 13,
   "metadata": {
    "scrolled": true
   },
   "outputs": [
    {
     "data": {
      "text/html": [
       "<div>\n",
       "<style scoped>\n",
       "    .dataframe tbody tr th:only-of-type {\n",
       "        vertical-align: middle;\n",
       "    }\n",
       "\n",
       "    .dataframe tbody tr th {\n",
       "        vertical-align: top;\n",
       "    }\n",
       "\n",
       "    .dataframe thead th {\n",
       "        text-align: right;\n",
       "    }\n",
       "</style>\n",
       "<table border=\"1\" class=\"dataframe\">\n",
       "  <thead>\n",
       "    <tr style=\"text-align: right;\">\n",
       "      <th></th>\n",
       "      <th>地震の発生日</th>\n",
       "      <th>地震の発生時刻</th>\n",
       "      <th>震央地名</th>\n",
       "      <th>緯度</th>\n",
       "      <th>経度</th>\n",
       "      <th>深さ</th>\n",
       "      <th>Ｍ</th>\n",
       "      <th>最大震度</th>\n",
       "    </tr>\n",
       "  </thead>\n",
       "  <tbody>\n",
       "    <tr>\n",
       "      <th>0</th>\n",
       "      <td>1919/1/11</td>\n",
       "      <td>1:59:50</td>\n",
       "      <td>千葉県南部</td>\n",
       "      <td>35°15.7′N</td>\n",
       "      <td>140°20.5′E</td>\n",
       "      <td>39 km</td>\n",
       "      <td>4</td>\n",
       "      <td>震度２</td>\n",
       "    </tr>\n",
       "  </tbody>\n",
       "</table>\n",
       "</div>"
      ],
      "text/plain": [
       "      地震の発生日  地震の発生時刻   震央地名         緯度          経度     深さ  Ｍ 最大震度\n",
       "0  1919/1/11  1:59:50  千葉県南部  35°15.7′N  140°20.5′E  39 km  4  震度２"
      ]
     },
     "execution_count": 13,
     "metadata": {},
     "output_type": "execute_result"
    }
   ],
   "source": [
    "df4=df3[df3['Ｍ']!='不明']\n",
    "df4"
   ]
  },
  {
   "cell_type": "code",
   "execution_count": 48,
   "metadata": {},
   "outputs": [],
   "source": [
    "df7=df.head(100000)"
   ]
  },
  {
   "cell_type": "code",
   "execution_count": 33,
   "metadata": {},
   "outputs": [],
   "source": [
    "df8=df7[df7['Ｍ']!='不明']"
   ]
  },
  {
   "cell_type": "code",
   "execution_count": 49,
   "metadata": {},
   "outputs": [
    {
     "data": {
      "text/html": [
       "<div>\n",
       "<style scoped>\n",
       "    .dataframe tbody tr th:only-of-type {\n",
       "        vertical-align: middle;\n",
       "    }\n",
       "\n",
       "    .dataframe tbody tr th {\n",
       "        vertical-align: top;\n",
       "    }\n",
       "\n",
       "    .dataframe thead th {\n",
       "        text-align: right;\n",
       "    }\n",
       "</style>\n",
       "<table border=\"1\" class=\"dataframe\">\n",
       "  <thead>\n",
       "    <tr style=\"text-align: right;\">\n",
       "      <th></th>\n",
       "      <th>地震の発生日</th>\n",
       "      <th>地震の発生時刻</th>\n",
       "      <th>震央地名</th>\n",
       "      <th>緯度</th>\n",
       "      <th>経度</th>\n",
       "      <th>深さ</th>\n",
       "      <th>Ｍ</th>\n",
       "      <th>最大震度</th>\n",
       "    </tr>\n",
       "  </thead>\n",
       "  <tbody>\n",
       "    <tr>\n",
       "      <th>2758</th>\n",
       "      <td>1923/9/1</td>\n",
       "      <td>11:58:32</td>\n",
       "      <td>神奈川県西部</td>\n",
       "      <td>35°19.8′N</td>\n",
       "      <td>139°08.1′E</td>\n",
       "      <td>23 km</td>\n",
       "      <td>7.9</td>\n",
       "      <td>震度６</td>\n",
       "    </tr>\n",
       "    <tr>\n",
       "      <th>3712</th>\n",
       "      <td>1924/1/15</td>\n",
       "      <td>5:50:15</td>\n",
       "      <td>神奈川県西部</td>\n",
       "      <td>35°20.4′N</td>\n",
       "      <td>139°03.3′E</td>\n",
       "      <td>0 km</td>\n",
       "      <td>7.3</td>\n",
       "      <td>震度６</td>\n",
       "    </tr>\n",
       "    <tr>\n",
       "      <th>5134</th>\n",
       "      <td>1925/5/23</td>\n",
       "      <td>11:09:48</td>\n",
       "      <td>兵庫県北部</td>\n",
       "      <td>35°33.8′N</td>\n",
       "      <td>134°50.0′E</td>\n",
       "      <td>0 km</td>\n",
       "      <td>6.8</td>\n",
       "      <td>震度６</td>\n",
       "    </tr>\n",
       "    <tr>\n",
       "      <th>6669</th>\n",
       "      <td>1927/3/7</td>\n",
       "      <td>18:27:39</td>\n",
       "      <td>京都府北部</td>\n",
       "      <td>35°37.9′N</td>\n",
       "      <td>134°55.8′E</td>\n",
       "      <td>18 km</td>\n",
       "      <td>7.3</td>\n",
       "      <td>震度６</td>\n",
       "    </tr>\n",
       "    <tr>\n",
       "      <th>10551</th>\n",
       "      <td>1930/11/26</td>\n",
       "      <td>4:02:47</td>\n",
       "      <td>静岡県伊豆地方</td>\n",
       "      <td>35°02.5′N</td>\n",
       "      <td>138°58.4′E</td>\n",
       "      <td>1 km</td>\n",
       "      <td>7.3</td>\n",
       "      <td>震度６</td>\n",
       "    </tr>\n",
       "    <tr>\n",
       "      <th>14544</th>\n",
       "      <td>1935/7/11</td>\n",
       "      <td>17:24:48</td>\n",
       "      <td>静岡県中部</td>\n",
       "      <td>35°01.4′N</td>\n",
       "      <td>138°23.6′E</td>\n",
       "      <td>10 km</td>\n",
       "      <td>6.4</td>\n",
       "      <td>震度６</td>\n",
       "    </tr>\n",
       "    <tr>\n",
       "      <th>19349</th>\n",
       "      <td>1941/7/15</td>\n",
       "      <td>23:45:27</td>\n",
       "      <td>長野県北部</td>\n",
       "      <td>36°39.4′N</td>\n",
       "      <td>138°11.6′E</td>\n",
       "      <td>5 km</td>\n",
       "      <td>6.1</td>\n",
       "      <td>震度６</td>\n",
       "    </tr>\n",
       "    <tr>\n",
       "      <th>21036</th>\n",
       "      <td>1943/9/10</td>\n",
       "      <td>17:36:53</td>\n",
       "      <td>鳥取県東部</td>\n",
       "      <td>35°28.3′N</td>\n",
       "      <td>134°11.0′E</td>\n",
       "      <td>0 km</td>\n",
       "      <td>7.2</td>\n",
       "      <td>震度６</td>\n",
       "    </tr>\n",
       "    <tr>\n",
       "      <th>23717</th>\n",
       "      <td>1944/12/7</td>\n",
       "      <td>13:35:40</td>\n",
       "      <td>三重県南東沖</td>\n",
       "      <td>33°34.4′N</td>\n",
       "      <td>136°10.5′E</td>\n",
       "      <td>40 km</td>\n",
       "      <td>7.9</td>\n",
       "      <td>震度６</td>\n",
       "    </tr>\n",
       "    <tr>\n",
       "      <th>27302</th>\n",
       "      <td>1948/6/28</td>\n",
       "      <td>16:13:29</td>\n",
       "      <td>福井県嶺北</td>\n",
       "      <td>36°10.3′N</td>\n",
       "      <td>136°17.4′E</td>\n",
       "      <td>0 km</td>\n",
       "      <td>7.1</td>\n",
       "      <td>震度６</td>\n",
       "    </tr>\n",
       "  </tbody>\n",
       "</table>\n",
       "</div>"
      ],
      "text/plain": [
       "           地震の発生日   地震の発生時刻     震央地名         緯度          経度     深さ    Ｍ 最大震度\n",
       "2758     1923/9/1  11:58:32   神奈川県西部  35°19.8′N  139°08.1′E  23 km  7.9  震度６\n",
       "3712    1924/1/15   5:50:15   神奈川県西部  35°20.4′N  139°03.3′E   0 km  7.3  震度６\n",
       "5134    1925/5/23  11:09:48    兵庫県北部  35°33.8′N  134°50.0′E   0 km  6.8  震度６\n",
       "6669     1927/3/7  18:27:39    京都府北部  35°37.9′N  134°55.8′E  18 km  7.3  震度６\n",
       "10551  1930/11/26   4:02:47  静岡県伊豆地方  35°02.5′N  138°58.4′E   1 km  7.3  震度６\n",
       "14544   1935/7/11  17:24:48    静岡県中部  35°01.4′N  138°23.6′E  10 km  6.4  震度６\n",
       "19349   1941/7/15  23:45:27    長野県北部  36°39.4′N  138°11.6′E   5 km  6.1  震度６\n",
       "21036   1943/9/10  17:36:53    鳥取県東部  35°28.3′N  134°11.0′E   0 km  7.2  震度６\n",
       "23717   1944/12/7  13:35:40   三重県南東沖  33°34.4′N  136°10.5′E  40 km  7.9  震度６\n",
       "27302   1948/6/28  16:13:29    福井県嶺北  36°10.3′N  136°17.4′E   0 km  7.1  震度６"
      ]
     },
     "execution_count": 49,
     "metadata": {},
     "output_type": "execute_result"
    }
   ],
   "source": [
    "rty=df7[df7['最大震度'].str.contains('６|７')]\n",
    "rty"
   ]
  },
  {
   "cell_type": "code",
   "execution_count": 56,
   "metadata": {},
   "outputs": [],
   "source": [
    "import matplotlib.pyplot as plt\n",
    "import numpy as np"
   ]
  },
  {
   "cell_type": "code",
   "execution_count": 57,
   "metadata": {},
   "outputs": [
    {
     "data": {
      "image/png": "[encoded data removed]",
      "text/plain": [
       "<Figure size 432x288 with 1 Axes>"
      ]
     },
     "metadata": {
      "needs_background": "light"
     },
     "output_type": "display_data"
    }
   ],
   "source": [
    "x = [100, 200, 300, 400, 500, 600]\n",
    "y = [10, 20, 30, 50, 80, 130]\n",
    "\n",
    "plt.plot(x, y);"
   ]
  },
  {
   "cell_type": "code",
   "execution_count": 61,
   "metadata": {},
   "outputs": [
    {
     "data": {
      "image/png": "[encoded data removed]",
      "text/plain": [
       "<Figure size 432x288 with 1 Axes>"
      ]
     },
     "metadata": {
      "needs_background": "light"
     },
     "output_type": "display_data"
    }
   ],
   "source": [
    "y=df8['Ｍ']\n",
    "plt.plot(y);"
   ]
  },
  {
   "cell_type": "code",
   "execution_count": 71,
   "metadata": {
    "scrolled": false
   },
   "outputs": [
    {
     "data": {
      "image/png": "[encoded data removed]",
      "text/plain": [
       "<Figure size 432x288 with 1 Axes>"
      ]
     },
     "metadata": {
      "needs_background": "light"
     },
     "output_type": "display_data"
    }
   ],
   "source": [
    "ue=df[df['地震の発生日'].str.startswith('1923')]\n",
    "ue[ue['Ｍ']!='不明']\n",
    "uem=ue[ue['最大震度'].str.contains('６|７')]\n",
    "y=uem['Ｍ']\n",
    "plt.plot(y);"
   ]
  },
  {
   "cell_type": "code",
   "execution_count": 89,
   "metadata": {
    "scrolled": true
   },
   "outputs": [
    {
     "data": {
      "text/html": [
       "<div>\n",
       "<style scoped>\n",
       "    .dataframe tbody tr th:only-of-type {\n",
       "        vertical-align: middle;\n",
       "    }\n",
       "\n",
       "    .dataframe tbody tr th {\n",
       "        vertical-align: top;\n",
       "    }\n",
       "\n",
       "    .dataframe thead th {\n",
       "        text-align: right;\n",
       "    }\n",
       "</style>\n",
       "<table border=\"1\" class=\"dataframe\">\n",
       "  <thead>\n",
       "    <tr style=\"text-align: right;\">\n",
       "      <th></th>\n",
       "      <th>地震の発生日</th>\n",
       "      <th>地震の発生時刻</th>\n",
       "      <th>震央地名</th>\n",
       "      <th>緯度</th>\n",
       "      <th>経度</th>\n",
       "      <th>深さ</th>\n",
       "      <th>Ｍ</th>\n",
       "      <th>最大震度</th>\n",
       "    </tr>\n",
       "  </thead>\n",
       "  <tbody>\n",
       "    <tr>\n",
       "      <th>2248</th>\n",
       "      <td>1923/1/11</td>\n",
       "      <td>21:24:25</td>\n",
       "      <td>日向灘</td>\n",
       "      <td>32°05.8′N</td>\n",
       "      <td>132°21.5′E</td>\n",
       "      <td>44 km</td>\n",
       "      <td>5.8</td>\n",
       "      <td>震度１</td>\n",
       "    </tr>\n",
       "    <tr>\n",
       "      <th>2249</th>\n",
       "      <td>1923/1/12</td>\n",
       "      <td>0:56:56</td>\n",
       "      <td>日向灘</td>\n",
       "      <td>32°24.5′N</td>\n",
       "      <td>132°10.9′E</td>\n",
       "      <td>40 km</td>\n",
       "      <td>5.6</td>\n",
       "      <td>震度２</td>\n",
       "    </tr>\n",
       "    <tr>\n",
       "      <th>2256</th>\n",
       "      <td>1923/1/14</td>\n",
       "      <td>14:51:29</td>\n",
       "      <td>茨城県南部</td>\n",
       "      <td>36°04.7′N</td>\n",
       "      <td>140°03.2′E</td>\n",
       "      <td>87 km</td>\n",
       "      <td>6</td>\n",
       "      <td>震度３</td>\n",
       "    </tr>\n",
       "    <tr>\n",
       "      <th>2273</th>\n",
       "      <td>1923/1/26</td>\n",
       "      <td>21:35:30</td>\n",
       "      <td>茨城県南部</td>\n",
       "      <td>36°15.6′N</td>\n",
       "      <td>140°08.3′E</td>\n",
       "      <td>37 km</td>\n",
       "      <td>5.2</td>\n",
       "      <td>震度２</td>\n",
       "    </tr>\n",
       "    <tr>\n",
       "      <th>2274</th>\n",
       "      <td>1923/1/27</td>\n",
       "      <td>8:28:11</td>\n",
       "      <td>茨城県南部</td>\n",
       "      <td>36°21.7′N</td>\n",
       "      <td>140°08.7′E</td>\n",
       "      <td>100 km</td>\n",
       "      <td>3.7</td>\n",
       "      <td>震度１</td>\n",
       "    </tr>\n",
       "    <tr>\n",
       "      <th>...</th>\n",
       "      <td>...</td>\n",
       "      <td>...</td>\n",
       "      <td>...</td>\n",
       "      <td>...</td>\n",
       "      <td>...</td>\n",
       "      <td>...</td>\n",
       "      <td>...</td>\n",
       "      <td>...</td>\n",
       "    </tr>\n",
       "    <tr>\n",
       "      <th>3656</th>\n",
       "      <td>1923/12/31</td>\n",
       "      <td>3:59:42</td>\n",
       "      <td>茨城県沖</td>\n",
       "      <td>36°45.4′N</td>\n",
       "      <td>141°31.3′E</td>\n",
       "      <td>8 km</td>\n",
       "      <td>5</td>\n",
       "      <td>震度２</td>\n",
       "    </tr>\n",
       "    <tr>\n",
       "      <th>3657</th>\n",
       "      <td>1923/12/31</td>\n",
       "      <td>10:11:47</td>\n",
       "      <td>千葉県東方沖</td>\n",
       "      <td>35°51.1′N</td>\n",
       "      <td>140°51.3′E</td>\n",
       "      <td>27 km</td>\n",
       "      <td>4</td>\n",
       "      <td>震度１</td>\n",
       "    </tr>\n",
       "    <tr>\n",
       "      <th>3658</th>\n",
       "      <td>1923/12/31</td>\n",
       "      <td>11:21:33</td>\n",
       "      <td>千葉県南東沖</td>\n",
       "      <td>34°54.3′N</td>\n",
       "      <td>139°48.2′E</td>\n",
       "      <td>0 km</td>\n",
       "      <td>5</td>\n",
       "      <td>震度２</td>\n",
       "    </tr>\n",
       "    <tr>\n",
       "      <th>3659</th>\n",
       "      <td>1923/12/31</td>\n",
       "      <td>14:51:05</td>\n",
       "      <td>新島・神津島近海</td>\n",
       "      <td>34°32.5′N</td>\n",
       "      <td>139°24.2′E</td>\n",
       "      <td>0 km</td>\n",
       "      <td>5.4</td>\n",
       "      <td>震度２</td>\n",
       "    </tr>\n",
       "    <tr>\n",
       "      <th>3660</th>\n",
       "      <td>1923/12/31</td>\n",
       "      <td>17:47:38</td>\n",
       "      <td>静岡県東部</td>\n",
       "      <td>35°08.9′N</td>\n",
       "      <td>138°49.3′E</td>\n",
       "      <td>23 km</td>\n",
       "      <td>4</td>\n",
       "      <td>震度１</td>\n",
       "    </tr>\n",
       "  </tbody>\n",
       "</table>\n",
       "<p>483 rows × 8 columns</p>\n",
       "</div>"
      ],
      "text/plain": [
       "          地震の発生日   地震の発生時刻      震央地名         緯度          経度      深さ    Ｍ 最大震度\n",
       "2248   1923/1/11  21:24:25       日向灘  32°05.8′N  132°21.5′E   44 km  5.8  震度１\n",
       "2249   1923/1/12   0:56:56       日向灘  32°24.5′N  132°10.9′E   40 km  5.6  震度２\n",
       "2256   1923/1/14  14:51:29     茨城県南部  36°04.7′N  140°03.2′E   87 km    6  震度３\n",
       "2273   1923/1/26  21:35:30     茨城県南部  36°15.6′N  140°08.3′E   37 km  5.2  震度２\n",
       "2274   1923/1/27   8:28:11     茨城県南部  36°21.7′N  140°08.7′E  100 km  3.7  震度１\n",
       "...          ...       ...       ...        ...         ...     ...  ...  ...\n",
       "3656  1923/12/31   3:59:42      茨城県沖  36°45.4′N  141°31.3′E    8 km    5  震度２\n",
       "3657  1923/12/31  10:11:47    千葉県東方沖  35°51.1′N  140°51.3′E   27 km    4  震度１\n",
       "3658  1923/12/31  11:21:33    千葉県南東沖  34°54.3′N  139°48.2′E    0 km    5  震度２\n",
       "3659  1923/12/31  14:51:05  新島・神津島近海  34°32.5′N  139°24.2′E    0 km  5.4  震度２\n",
       "3660  1923/12/31  17:47:38     静岡県東部  35°08.9′N  138°49.3′E   23 km    4  震度１\n",
       "\n",
       "[483 rows x 8 columns]"
      ]
     },
     "execution_count": 89,
     "metadata": {},
     "output_type": "execute_result"
    }
   ],
   "source": [
    "ue=df[df['地震の発生日'].str.startswith('1923')]\n",
    "ue[ue['Ｍ']!='不明']"
   ]
  },
  {
   "cell_type": "code",
   "execution_count": 100,
   "metadata": {},
   "outputs": [
    {
     "name": "stdout",
     "output_type": "stream",
     "text": [
      "          地震の発生日   地震の発生時刻      震央地名         緯度          経度     深さ    Ｍ 最大震度\n",
      "2249   1923/1/12   0:56:56       日向灘  32°24.5′N  132°10.9′E  40 km  5.6  震度２\n",
      "2273   1923/1/26  21:35:30     茨城県南部  36°15.6′N  140°08.3′E  37 km  5.2  震度２\n",
      "2276   1923/1/27  13:12:10      福島県沖  36°57.0′N  141°14.2′E   0 km  5.1  震度２\n",
      "2277   1923/1/27  14:03:38      福島県沖  37°24.5′N  141°23.4′E  71 km  5.8  震度２\n",
      "2282    1923/2/1   5:45:20      福島県沖  37°16.0′N  141°34.8′E   0 km  5.7  震度２\n",
      "...          ...       ...       ...        ...         ...    ...  ...  ...\n",
      "3644  1923/12/28   0:28:35      茨城県沖  36°02.9′N  140°44.1′E  64 km  4.3  震度２\n",
      "3645  1923/12/28   1:02:19     茨城県北部  36°42.9′N  140°41.2′E  30 km    4  震度２\n",
      "3656  1923/12/31   3:59:42      茨城県沖  36°45.4′N  141°31.3′E   8 km    5  震度２\n",
      "3658  1923/12/31  11:21:33    千葉県南東沖  34°54.3′N  139°48.2′E   0 km    5  震度２\n",
      "3659  1923/12/31  14:51:05  新島・神津島近海  34°32.5′N  139°24.2′E   0 km  5.4  震度２\n",
      "\n",
      "[85 rows x 8 columns]\n"
     ]
    }
   ],
   "source": [
    "ue=df[df['地震の発生日'].str.startswith('1923')]\n",
    "ue=ue[ue['Ｍ']!='不明']\n",
    "#print(ue['最大震度'].str.contains('震度２'))\n",
    "rty=ue[ue['最大震度'].str.contains('震度２')]\n",
    "print(rty)"
   ]
  },
  {
   "cell_type": "code",
   "execution_count": 111,
   "metadata": {},
   "outputs": [
    {
     "name": "stdout",
     "output_type": "stream",
     "text": [
      "          地震の発生日   地震の発生時刻        震央地名         緯度          経度     深さ    Ｍ 最大震度\n",
      "2512    1923/6/2   2:24:46        茨城県沖  35°55.7′N  141°29.0′E  36 km  7.1  震度４\n",
      "2534    1923/6/2   5:15:07      千葉県東方沖  35°44.1′N  141°14.8′E  67 km  6.8  震度５\n",
      "2673   1923/7/13  20:13:25     九州地方南東沖  30°52.3′N  132°00.1′E  44 km  7.3  震度４\n",
      "2758    1923/9/1  11:58:32      神奈川県西部  35°19.8′N  139°08.1′E  23 km  7.9  震度６\n",
      "2761    1923/9/1  12:03:00         相模湾  35°06.0′N  139°30.0′E   0 km  7.3  震度５\n",
      "2768    1923/9/1  12:11:00      伊豆大島近海  35°00.0′N  139°30.0′E   0 km  5.6  震度５\n",
      "2772    1923/9/1  12:17:29      伊豆大島近海  34°44.4′N  139°34.9′E  24 km  6.4  震度５\n",
      "2775    1923/9/1  12:23:53         相模湾  35°16.4′N  139°27.6′E  42 km  6.5  震度５\n",
      "2785    1923/9/1  12:47:57     山梨県中・西部  35°39.6′N  138°47.5′E   0 km  6.8  震度５\n",
      "2794    1923/9/1  13:20:26      伊豆大島近海  34°57.6′N  139°33.0′E   0 km  6.2  震度５\n",
      "2797    1923/9/1  13:31:12       静岡県東部  35°21.9′N  138°46.7′E   0 km  6.1  震度５\n",
      "2812    1923/9/1  14:22:32     静岡県伊豆地方  35°05.1′N  139°02.5′E   0 km  6.6  震度５\n",
      "2832    1923/9/1  16:37:59       静岡県東部  35°14.0′N  138°46.1′E   0 km  6.6  震度５\n",
      "2837    1923/9/1  17:00:45      神奈川県西部  35°34.2′N  139°12.6′E  52 km  4.3  震度５\n",
      "2869    1923/9/1  22:52:18      伊豆大島近海  34°48.8′N  139°09.5′E   0 km  6.1  震度４\n",
      "2895    1923/9/2   4:13:27  山梨県東部・富士五湖  35°33.2′N  138°58.3′E   6 km  4.6  震度５\n",
      "2916    1923/9/2  11:46:39      千葉県南東沖  34°41.3′N  140°02.6′E  14 km  7.3  震度５\n",
      "2939    1923/9/2  18:26:51      千葉県東方沖  35°33.7′N  140°41.7′E  27 km  6.9  震度５\n",
      "2946    1923/9/2  18:48:42      千葉県東方沖  35°42.8′N  141°06.5′E  15 km  6.3  震度４\n",
      "2964    1923/9/2  22:09:11     静岡県伊豆地方  34°56.2′N  138°50.5′E  24 km  6.5  震度５\n",
      "2966    1923/9/2  23:16:29      神奈川県西部  35°22.5′N  139°04.2′E   0 km  6.2  震度４\n",
      "3078   1923/9/14  15:32:52       茨城県南部  36°13.0′N  139°50.7′E  47 km  5.2  震度５\n",
      "3143   1923/9/26  17:23:43      伊豆大島近海  34°41.5′N  139°12.7′E   0 km  6.8  震度４\n",
      "3200   1923/10/4   0:54:14       静岡県東部  35°23.8′N  138°52.8′E   4 km  6.3  震度４\n",
      "3301  1923/10/17   3:03:59  山梨県東部・富士五湖  35°34.2′N  139°02.3′E  20 km  5.7  震度４\n",
      "3416   1923/11/5   5:45:42     東京都多摩東部  35°41.4′N  139°30.9′E  48 km  6.3  震度４\n",
      "3511  1923/11/23  11:33:41      神奈川県東部  35°22.6′N  139°30.8′E  20 km  6.3  震度４\n",
      "3565   1923/12/5   8:40:26         土佐湾  33°14.0′N  133°53.7′E  16 km  6.3  震度４\n"
     ]
    }
   ],
   "source": [
    "ue=df[df['地震の発生日'].str.startswith('1923')]\n",
    "ue=ue[ue['Ｍ']!='不明']\n",
    "rty=ue[ue['最大震度'].str.contains('４|５|６')]\n",
    "print(rty)"
   ]
  },
  {
   "cell_type": "code",
   "execution_count": 112,
   "metadata": {},
   "outputs": [
    {
     "name": "stdout",
     "output_type": "stream",
     "text": [
      "    地震の発生日 地震の発生時刻 震央地名   緯度   経度   深さ    Ｍ 最大震度\n",
      "震度４    NaN     NaN  NaN  NaN  NaN  NaN  NaN  NaN\n",
      "震度５    NaN     NaN  NaN  NaN  NaN  NaN  NaN  NaN\n",
      "震度６    NaN     NaN  NaN  NaN  NaN  NaN  NaN  NaN\n"
     ]
    }
   ],
   "source": [
    "ue=df[df['地震の発生日'].str.startswith('1923')]\n",
    "ue=ue[ue['Ｍ']!='不明']\n",
    "rty=ue[ue['最大震度'].str.contains('４|５|６')]\n",
    "\n",
    "sss=rty.reindex(index=['震度４', '震度５', '震度６'])\n",
    "print(sss)"
   ]
  },
  {
   "cell_type": "code",
   "execution_count": 118,
   "metadata": {
    "scrolled": true
   },
   "outputs": [
    {
     "data": {
      "text/plain": [
       "2512    震度４\n",
       "2534    震度５\n",
       "2673    震度４\n",
       "2758    震度６\n",
       "2761    震度５\n",
       "2768    震度５\n",
       "2772    震度５\n",
       "2775    震度５\n",
       "2785    震度５\n",
       "2794    震度５\n",
       "2797    震度５\n",
       "2812    震度５\n",
       "2832    震度５\n",
       "2837    震度５\n",
       "2869    震度４\n",
       "2895    震度５\n",
       "2916    震度５\n",
       "2939    震度５\n",
       "2946    震度４\n",
       "2964    震度５\n",
       "2966    震度４\n",
       "3078    震度５\n",
       "3143    震度４\n",
       "3200    震度４\n",
       "3301    震度４\n",
       "3416    震度４\n",
       "3511    震度４\n",
       "3565    震度４\n",
       "Name: 最大震度, dtype: object"
      ]
     },
     "execution_count": 118,
     "metadata": {},
     "output_type": "execute_result"
    }
   ],
   "source": [
    "ue=df[df['地震の発生日'].str.startswith('1923')]\n",
    "ue=ue[ue['Ｍ']!='不明']\n",
    "rty=ue[ue['最大震度'].str.contains('４|５|６')]\n",
    "rty['最大震度']"
   ]
  },
  {
   "cell_type": "code",
   "execution_count": 123,
   "metadata": {},
   "outputs": [
    {
     "name": "stdout",
     "output_type": "stream",
     "text": [
      "          地震の発生日   地震の発生時刻        震央地名         緯度          経度     深さ    Ｍ 最大震度\n",
      "2512    1923/6/2   2:24:46        茨城県沖  35°55.7′N  141°29.0′E  36 km  7.1  震度４\n",
      "3416   1923/11/5   5:45:42     東京都多摩東部  35°41.4′N  139°30.9′E  48 km  6.3  震度４\n",
      "3301  1923/10/17   3:03:59  山梨県東部・富士五湖  35°34.2′N  139°02.3′E  20 km  5.7  震度４\n",
      "3200   1923/10/4   0:54:14       静岡県東部  35°23.8′N  138°52.8′E   4 km  6.3  震度４\n",
      "3143   1923/9/26  17:23:43      伊豆大島近海  34°41.5′N  139°12.7′E   0 km  6.8  震度４\n",
      "2966    1923/9/2  23:16:29      神奈川県西部  35°22.5′N  139°04.2′E   0 km  6.2  震度４\n",
      "2946    1923/9/2  18:48:42      千葉県東方沖  35°42.8′N  141°06.5′E  15 km  6.3  震度４\n",
      "2869    1923/9/1  22:52:18      伊豆大島近海  34°48.8′N  139°09.5′E   0 km  6.1  震度４\n",
      "3511  1923/11/23  11:33:41      神奈川県東部  35°22.6′N  139°30.8′E  20 km  6.3  震度４\n",
      "3565   1923/12/5   8:40:26         土佐湾  33°14.0′N  133°53.7′E  16 km  6.3  震度４\n",
      "2673   1923/7/13  20:13:25     九州地方南東沖  30°52.3′N  132°00.1′E  44 km  7.3  震度４\n",
      "2797    1923/9/1  13:31:12       静岡県東部  35°21.9′N  138°46.7′E   0 km  6.1  震度５\n",
      "2534    1923/6/2   5:15:07      千葉県東方沖  35°44.1′N  141°14.8′E  67 km  6.8  震度５\n",
      "2761    1923/9/1  12:03:00         相模湾  35°06.0′N  139°30.0′E   0 km  7.3  震度５\n",
      "3078   1923/9/14  15:32:52       茨城県南部  36°13.0′N  139°50.7′E  47 km  5.2  震度５\n",
      "2768    1923/9/1  12:11:00      伊豆大島近海  35°00.0′N  139°30.0′E   0 km  5.6  震度５\n",
      "2964    1923/9/2  22:09:11     静岡県伊豆地方  34°56.2′N  138°50.5′E  24 km  6.5  震度５\n",
      "2794    1923/9/1  13:20:26      伊豆大島近海  34°57.6′N  139°33.0′E   0 km  6.2  震度５\n",
      "2772    1923/9/1  12:17:29      伊豆大島近海  34°44.4′N  139°34.9′E  24 km  6.4  震度５\n",
      "2916    1923/9/2  11:46:39      千葉県南東沖  34°41.3′N  140°02.6′E  14 km  7.3  震度５\n",
      "2895    1923/9/2   4:13:27  山梨県東部・富士五湖  35°33.2′N  138°58.3′E   6 km  4.6  震度５\n",
      "2775    1923/9/1  12:23:53         相模湾  35°16.4′N  139°27.6′E  42 km  6.5  震度５\n",
      "2785    1923/9/1  12:47:57     山梨県中・西部  35°39.6′N  138°47.5′E   0 km  6.8  震度５\n",
      "2832    1923/9/1  16:37:59       静岡県東部  35°14.0′N  138°46.1′E   0 km  6.6  震度５\n",
      "2812    1923/9/1  14:22:32     静岡県伊豆地方  35°05.1′N  139°02.5′E   0 km  6.6  震度５\n",
      "2939    1923/9/2  18:26:51      千葉県東方沖  35°33.7′N  140°41.7′E  27 km  6.9  震度５\n",
      "2837    1923/9/1  17:00:45      神奈川県西部  35°34.2′N  139°12.6′E  52 km  4.3  震度５\n",
      "2758    1923/9/1  11:58:32      神奈川県西部  35°19.8′N  139°08.1′E  23 km  7.9  震度６\n"
     ]
    }
   ],
   "source": [
    "ue=df[df['地震の発生日'].str.startswith('1923')]\n",
    "ue=ue[ue['Ｍ']!='不明']\n",
    "rty=ue[ue['最大震度'].str.contains('４|５|６')]\n",
    "rty['最大震度']\n",
    "df_s = rty.sort_values('最大震度')\n",
    "print(df_s)"
   ]
  },
  {
   "cell_type": "code",
   "execution_count": 124,
   "metadata": {},
   "outputs": [
    {
     "name": "stdout",
     "output_type": "stream",
     "text": [
      "2512    震度４\n",
      "3416    震度４\n",
      "3301    震度４\n",
      "3200    震度４\n",
      "3143    震度４\n",
      "2966    震度４\n",
      "2946    震度４\n",
      "2869    震度４\n",
      "3511    震度４\n",
      "3565    震度４\n",
      "2673    震度４\n",
      "2797    震度５\n",
      "2534    震度５\n",
      "2761    震度５\n",
      "3078    震度５\n",
      "2768    震度５\n",
      "2964    震度５\n",
      "2794    震度５\n",
      "2772    震度５\n",
      "2916    震度５\n",
      "2895    震度５\n",
      "2775    震度５\n",
      "2785    震度５\n",
      "2832    震度５\n",
      "2812    震度５\n",
      "2939    震度５\n",
      "2837    震度５\n",
      "2758    震度６\n",
      "Name: 最大震度, dtype: object\n"
     ]
    }
   ],
   "source": [
    "ue=df[df['地震の発生日'].str.startswith('1923')]\n",
    "ue=ue[ue['Ｍ']!='不明']\n",
    "rty=ue[ue['最大震度'].str.contains('４|５|６')]\n",
    "rty['最大震度']\n",
    "df_s = rty.sort_values('最大震度')['最大震度']\n",
    "print(df_s)\n"
   ]
  },
  {
   "cell_type": "code",
   "execution_count": 131,
   "metadata": {},
   "outputs": [
    {
     "ename": "AttributeError",
     "evalue": "'Rectangle' object has no property 'column'",
     "output_type": "error",
     "traceback": [
      "\u001b[0;31m---------------------------------------------------------------------------\u001b[0m",
      "\u001b[0;31mAttributeError\u001b[0m                            Traceback (most recent call last)",
      "\u001b[0;32m<ipython-input-131-8a7f80edbf5e>\u001b[0m in \u001b[0;36m<module>\u001b[0;34m\u001b[0m\n\u001b[1;32m      7\u001b[0m \u001b[0mdf_s\u001b[0m \u001b[0;34m=\u001b[0m \u001b[0mrty\u001b[0m\u001b[0;34m.\u001b[0m\u001b[0msort_values\u001b[0m\u001b[0;34m(\u001b[0m\u001b[0;34m'最大震度'\u001b[0m\u001b[0;34m)\u001b[0m\u001b[0;34m[\u001b[0m\u001b[0;34m'最大震度'\u001b[0m\u001b[0;34m]\u001b[0m\u001b[0;34m\u001b[0m\u001b[0;34m\u001b[0m\u001b[0m\n\u001b[1;32m      8\u001b[0m \u001b[0;34m\u001b[0m\u001b[0m\n\u001b[0;32m----> 9\u001b[0;31m \u001b[0mdf_s\u001b[0m\u001b[0;34m.\u001b[0m\u001b[0mhist\u001b[0m\u001b[0;34m(\u001b[0m\u001b[0mcolumn\u001b[0m\u001b[0;34m=\u001b[0m\u001b[0;34m'最大震度'\u001b[0m\u001b[0;34m)\u001b[0m\u001b[0;34m\u001b[0m\u001b[0;34m\u001b[0m\u001b[0m\n\u001b[0m\u001b[1;32m     10\u001b[0m \u001b[0;31m#mydata.hist(column='height', bins=20)\u001b[0m\u001b[0;34m\u001b[0m\u001b[0;34m\u001b[0m\u001b[0;34m\u001b[0m\u001b[0m\n\u001b[1;32m     11\u001b[0m \u001b[0mplt\u001b[0m\u001b[0;34m.\u001b[0m\u001b[0mtitle\u001b[0m\u001b[0;34m(\u001b[0m\u001b[0;34m'震度ヒストグラム'\u001b[0m\u001b[0;34m)\u001b[0m\u001b[0;31m# タイトル追加\u001b[0m\u001b[0;34m\u001b[0m\u001b[0;34m\u001b[0m\u001b[0m\n",
      "\u001b[0;32m/opt/anaconda3/lib/python3.8/site-packages/pandas/plotting/_core.py\u001b[0m in \u001b[0;36mhist_series\u001b[0;34m(self, by, ax, grid, xlabelsize, xrot, ylabelsize, yrot, figsize, bins, backend, legend, **kwargs)\u001b[0m\n\u001b[1;32m     83\u001b[0m     \"\"\"\n\u001b[1;32m     84\u001b[0m     \u001b[0mplot_backend\u001b[0m \u001b[0;34m=\u001b[0m \u001b[0m_get_plot_backend\u001b[0m\u001b[0;34m(\u001b[0m\u001b[0mbackend\u001b[0m\u001b[0;34m)\u001b[0m\u001b[0;34m\u001b[0m\u001b[0;34m\u001b[0m\u001b[0m\n\u001b[0;32m---> 85\u001b[0;31m     return plot_backend.hist_series(\n\u001b[0m\u001b[1;32m     86\u001b[0m         \u001b[0mself\u001b[0m\u001b[0;34m,\u001b[0m\u001b[0;34m\u001b[0m\u001b[0;34m\u001b[0m\u001b[0m\n\u001b[1;32m     87\u001b[0m         \u001b[0mby\u001b[0m\u001b[0;34m=\u001b[0m\u001b[0mby\u001b[0m\u001b[0;34m,\u001b[0m\u001b[0;34m\u001b[0m\u001b[0;34m\u001b[0m\u001b[0m\n",
      "\u001b[0;32m/opt/anaconda3/lib/python3.8/site-packages/pandas/plotting/_matplotlib/hist.py\u001b[0m in \u001b[0;36mhist_series\u001b[0;34m(self, by, ax, grid, xlabelsize, xrot, ylabelsize, yrot, figsize, bins, legend, **kwds)\u001b[0m\n\u001b[1;32m    327\u001b[0m         \u001b[0;32mif\u001b[0m \u001b[0mlegend\u001b[0m\u001b[0;34m:\u001b[0m\u001b[0;34m\u001b[0m\u001b[0;34m\u001b[0m\u001b[0m\n\u001b[1;32m    328\u001b[0m             \u001b[0mkwds\u001b[0m\u001b[0;34m[\u001b[0m\u001b[0;34m\"label\"\u001b[0m\u001b[0;34m]\u001b[0m \u001b[0;34m=\u001b[0m \u001b[0mself\u001b[0m\u001b[0;34m.\u001b[0m\u001b[0mname\u001b[0m\u001b[0;34m\u001b[0m\u001b[0;34m\u001b[0m\u001b[0m\n\u001b[0;32m--> 329\u001b[0;31m         \u001b[0max\u001b[0m\u001b[0;34m.\u001b[0m\u001b[0mhist\u001b[0m\u001b[0;34m(\u001b[0m\u001b[0mvalues\u001b[0m\u001b[0;34m,\u001b[0m \u001b[0mbins\u001b[0m\u001b[0;34m=\u001b[0m\u001b[0mbins\u001b[0m\u001b[0;34m,\u001b[0m \u001b[0;34m**\u001b[0m\u001b[0mkwds\u001b[0m\u001b[0;34m)\u001b[0m\u001b[0;34m\u001b[0m\u001b[0;34m\u001b[0m\u001b[0m\n\u001b[0m\u001b[1;32m    330\u001b[0m         \u001b[0;32mif\u001b[0m \u001b[0mlegend\u001b[0m\u001b[0;34m:\u001b[0m\u001b[0;34m\u001b[0m\u001b[0;34m\u001b[0m\u001b[0m\n\u001b[1;32m    331\u001b[0m             \u001b[0max\u001b[0m\u001b[0;34m.\u001b[0m\u001b[0mlegend\u001b[0m\u001b[0;34m(\u001b[0m\u001b[0;34m)\u001b[0m\u001b[0;34m\u001b[0m\u001b[0;34m\u001b[0m\u001b[0m\n",
      "\u001b[0;32m/opt/anaconda3/lib/python3.8/site-packages/matplotlib/__init__.py\u001b[0m in \u001b[0;36minner\u001b[0;34m(ax, data, *args, **kwargs)\u001b[0m\n\u001b[1;32m   1436\u001b[0m     \u001b[0;32mdef\u001b[0m \u001b[0minner\u001b[0m\u001b[0;34m(\u001b[0m\u001b[0max\u001b[0m\u001b[0;34m,\u001b[0m \u001b[0;34m*\u001b[0m\u001b[0margs\u001b[0m\u001b[0;34m,\u001b[0m \u001b[0mdata\u001b[0m\u001b[0;34m=\u001b[0m\u001b[0;32mNone\u001b[0m\u001b[0;34m,\u001b[0m \u001b[0;34m**\u001b[0m\u001b[0mkwargs\u001b[0m\u001b[0;34m)\u001b[0m\u001b[0;34m:\u001b[0m\u001b[0;34m\u001b[0m\u001b[0;34m\u001b[0m\u001b[0m\n\u001b[1;32m   1437\u001b[0m         \u001b[0;32mif\u001b[0m \u001b[0mdata\u001b[0m \u001b[0;32mis\u001b[0m \u001b[0;32mNone\u001b[0m\u001b[0;34m:\u001b[0m\u001b[0;34m\u001b[0m\u001b[0;34m\u001b[0m\u001b[0m\n\u001b[0;32m-> 1438\u001b[0;31m             \u001b[0;32mreturn\u001b[0m \u001b[0mfunc\u001b[0m\u001b[0;34m(\u001b[0m\u001b[0max\u001b[0m\u001b[0;34m,\u001b[0m \u001b[0;34m*\u001b[0m\u001b[0mmap\u001b[0m\u001b[0;34m(\u001b[0m\u001b[0msanitize_sequence\u001b[0m\u001b[0;34m,\u001b[0m \u001b[0margs\u001b[0m\u001b[0;34m)\u001b[0m\u001b[0;34m,\u001b[0m \u001b[0;34m**\u001b[0m\u001b[0mkwargs\u001b[0m\u001b[0;34m)\u001b[0m\u001b[0;34m\u001b[0m\u001b[0;34m\u001b[0m\u001b[0m\n\u001b[0m\u001b[1;32m   1439\u001b[0m \u001b[0;34m\u001b[0m\u001b[0m\n\u001b[1;32m   1440\u001b[0m         \u001b[0mbound\u001b[0m \u001b[0;34m=\u001b[0m \u001b[0mnew_sig\u001b[0m\u001b[0;34m.\u001b[0m\u001b[0mbind\u001b[0m\u001b[0;34m(\u001b[0m\u001b[0max\u001b[0m\u001b[0;34m,\u001b[0m \u001b[0;34m*\u001b[0m\u001b[0margs\u001b[0m\u001b[0;34m,\u001b[0m \u001b[0;34m**\u001b[0m\u001b[0mkwargs\u001b[0m\u001b[0;34m)\u001b[0m\u001b[0;34m\u001b[0m\u001b[0;34m\u001b[0m\u001b[0m\n",
      "\u001b[0;32m/opt/anaconda3/lib/python3.8/site-packages/matplotlib/axes/_axes.py\u001b[0m in \u001b[0;36mhist\u001b[0;34m(self, x, bins, range, density, weights, cumulative, bottom, histtype, align, orientation, rwidth, log, color, label, stacked, **kwargs)\u001b[0m\n\u001b[1;32m   6818\u001b[0m             \u001b[0;32mif\u001b[0m \u001b[0mpatch\u001b[0m\u001b[0;34m:\u001b[0m\u001b[0;34m\u001b[0m\u001b[0;34m\u001b[0m\u001b[0m\n\u001b[1;32m   6819\u001b[0m                 \u001b[0mp\u001b[0m \u001b[0;34m=\u001b[0m \u001b[0mpatch\u001b[0m\u001b[0;34m[\u001b[0m\u001b[0;36m0\u001b[0m\u001b[0;34m]\u001b[0m\u001b[0;34m\u001b[0m\u001b[0;34m\u001b[0m\u001b[0m\n\u001b[0;32m-> 6820\u001b[0;31m                 \u001b[0mp\u001b[0m\u001b[0;34m.\u001b[0m\u001b[0mupdate\u001b[0m\u001b[0;34m(\u001b[0m\u001b[0mkwargs\u001b[0m\u001b[0;34m)\u001b[0m\u001b[0;34m\u001b[0m\u001b[0;34m\u001b[0m\u001b[0m\n\u001b[0m\u001b[1;32m   6821\u001b[0m                 \u001b[0;32mif\u001b[0m \u001b[0mlbl\u001b[0m \u001b[0;32mis\u001b[0m \u001b[0;32mnot\u001b[0m \u001b[0;32mNone\u001b[0m\u001b[0;34m:\u001b[0m\u001b[0;34m\u001b[0m\u001b[0;34m\u001b[0m\u001b[0m\n\u001b[1;32m   6822\u001b[0m                     \u001b[0mp\u001b[0m\u001b[0;34m.\u001b[0m\u001b[0mset_label\u001b[0m\u001b[0;34m(\u001b[0m\u001b[0mlbl\u001b[0m\u001b[0;34m)\u001b[0m\u001b[0;34m\u001b[0m\u001b[0;34m\u001b[0m\u001b[0m\n",
      "\u001b[0;32m/opt/anaconda3/lib/python3.8/site-packages/matplotlib/artist.py\u001b[0m in \u001b[0;36mupdate\u001b[0;34m(self, props)\u001b[0m\n\u001b[1;32m    994\u001b[0m                     \u001b[0mfunc\u001b[0m \u001b[0;34m=\u001b[0m \u001b[0mgetattr\u001b[0m\u001b[0;34m(\u001b[0m\u001b[0mself\u001b[0m\u001b[0;34m,\u001b[0m \u001b[0;34mf\"set_{k}\"\u001b[0m\u001b[0;34m,\u001b[0m \u001b[0;32mNone\u001b[0m\u001b[0;34m)\u001b[0m\u001b[0;34m\u001b[0m\u001b[0;34m\u001b[0m\u001b[0m\n\u001b[1;32m    995\u001b[0m                     \u001b[0;32mif\u001b[0m \u001b[0;32mnot\u001b[0m \u001b[0mcallable\u001b[0m\u001b[0;34m(\u001b[0m\u001b[0mfunc\u001b[0m\u001b[0;34m)\u001b[0m\u001b[0;34m:\u001b[0m\u001b[0;34m\u001b[0m\u001b[0;34m\u001b[0m\u001b[0m\n\u001b[0;32m--> 996\u001b[0;31m                         raise AttributeError(f\"{type(self).__name__!r} object \"\n\u001b[0m\u001b[1;32m    997\u001b[0m                                              f\"has no property {k!r}\")\n\u001b[1;32m    998\u001b[0m                     \u001b[0mret\u001b[0m\u001b[0;34m.\u001b[0m\u001b[0mappend\u001b[0m\u001b[0;34m(\u001b[0m\u001b[0mfunc\u001b[0m\u001b[0;34m(\u001b[0m\u001b[0mv\u001b[0m\u001b[0;34m)\u001b[0m\u001b[0;34m)\u001b[0m\u001b[0;34m\u001b[0m\u001b[0;34m\u001b[0m\u001b[0m\n",
      "\u001b[0;31mAttributeError\u001b[0m: 'Rectangle' object has no property 'column'"
     ]
    },
    {
     "data": {
      "image/png": "[encoded data removed]",
      "text/plain": [
       "<Figure size 432x288 with 1 Axes>"
      ]
     },
     "metadata": {
      "needs_background": "light"
     },
     "output_type": "display_data"
    }
   ],
   "source": [
    "import matplotlib.pyplot as plt\n",
    "\n",
    "ue=df[df['地震の発生日'].str.startswith('1923')]\n",
    "ue=ue[ue['Ｍ']!='不明']\n",
    "rty=ue[ue['最大震度'].str.contains('４|５|６')]\n",
    "rty['最大震度']\n",
    "df_s = rty.sort_values('最大震度')['最大震度']\n",
    "\n",
    "df_s.hist(column='最大震度')\n",
    "#mydata.hist(column='height', bins=20)\n",
    "plt.title('震度ヒストグラム')# タイトル追加\n",
    "\n",
    "# x軸にscore、y軸にfreq\n",
    "plt.xlabel('index')\n",
    "plt.ylabel('震度')\n",
    "\n",
    "data = df_s.tolist()\n",
    "# ヒストグラムを描画する\n",
    "plt.hist(data );\n"
   ]
  },
  {
   "cell_type": "code",
   "execution_count": 133,
   "metadata": {},
   "outputs": [
    {
     "name": "stdout",
     "output_type": "stream",
     "text": [
      "震度５    16\n",
      "震度４    11\n",
      "震度６     1\n",
      "Name: 最大震度, dtype: int64\n"
     ]
    }
   ],
   "source": [
    "ue=df[df['地震の発生日'].str.startswith('1923')]\n",
    "ue=ue[ue['Ｍ']!='不明']\n",
    "rty=ue[ue['最大震度'].str.contains('４|５|６')]\n",
    "rty['最大震度']\n",
    "df_s = rty.sort_values('最大震度')['最大震度']\n",
    "\n",
    "vc = df_s.value_counts()\n",
    "print(vc)"
   ]
  },
  {
   "cell_type": "code",
   "execution_count": 159,
   "metadata": {},
   "outputs": [
    {
     "data": {
      "image/png": "[encoded data removed]",
      "text/plain": [
       "<Figure size 432x288 with 1 Axes>"
      ]
     },
     "metadata": {
      "needs_background": "light"
     },
     "output_type": "display_data"
    }
   ],
   "source": [
    "import matplotlib as plt\n",
    "import pandas as pd\n",
    "import numpy as np\n",
    "\n",
    " \n",
    "ue=df[df['地震の発生日'].str.startswith('1923')]\n",
    "ue=ue[ue['Ｍ']!='不明']\n",
    "rty=ue[ue['最大震度'].str.contains('４|５|６')]\n",
    "rty['最大震度']\n",
    "df_s = rty.sort_values('最大震度')['最大震度']\n",
    "\n",
    "vc = df_s.value_counts()    \n",
    "#print(vc['震度５'])\n",
    "\n",
    "dataframe = pd.DataFrame({'Value':[vc['震度４'], vc['震度５'],vc['震度６']]})\n",
    "axis = dataframe.plot.bar(rot=0)\n",
    "#print(axis)"
   ]
  },
  {
   "cell_type": "code",
   "execution_count": 167,
   "metadata": {},
   "outputs": [
    {
     "data": {
      "text/plain": [
       "<BarContainer object of 3 artists>"
      ]
     },
     "execution_count": 167,
     "metadata": {},
     "output_type": "execute_result"
    },
    {
     "data": {
      "image/png": "[encoded data removed]",
      "text/plain": [
       "<Figure size 432x288 with 1 Axes>"
      ]
     },
     "metadata": {
      "needs_background": "light"
     },
     "output_type": "display_data"
    }
   ],
   "source": [
    "import matplotlib as plt\n",
    "import pandas as pd\n",
    "import numpy as np\n",
    "import matplotlib.pyplot as plt\n",
    " \n",
    "ue=df[df['地震の発生日'].str.startswith('1923')]\n",
    "ue=ue[ue['Ｍ']!='不明']\n",
    "rty=ue[ue['最大震度'].str.contains('４|５|６')]\n",
    "rty['最大震度']\n",
    "df_s = rty.sort_values('最大震度')['最大震度']\n",
    "vc = df_s.value_counts() \n",
    "\n",
    "height= np.array([vc['震度４'], vc['震度５'], vc['震度６']])\n",
    "left  = np.array([1, 2, 3])\n",
    "plt.bar(left, height)"
   ]
  },
  {
   "cell_type": "code",
   "execution_count": 172,
   "metadata": {},
   "outputs": [
    {
     "data": {
      "text/plain": [
       "<BarContainer object of 3 artists>"
      ]
     },
     "execution_count": 172,
     "metadata": {},
     "output_type": "execute_result"
    },
    {
     "data": {
      "image/png": "[encoded data removed]",
      "text/plain": [
       "<Figure size 432x288 with 1 Axes>"
      ]
     },
     "metadata": {
      "needs_background": "light"
     },
     "output_type": "display_data"
    }
   ],
   "source": [
    "import matplotlib as plt\n",
    "import pandas as pd\n",
    "import numpy as np\n",
    "import matplotlib.pyplot as plt\n",
    " \n",
    "ue=df[df['地震の発生日'].str.startswith('1923')]\n",
    "ue=ue[ue['Ｍ']!='不明']\n",
    "rty=ue[ue['最大震度'].str.contains('４|５|６')]\n",
    "rty['最大震度']\n",
    "df_s = rty.sort_values('最大震度')['最大震度']\n",
    "vc = df_s.value_counts() \n",
    "\n",
    "height= np.array([vc['震度４'], vc['震度５'], vc['震度６']])\n",
    "left  = np.array([1, 2, 3])\n",
    "plt.bar(left,height)\n",
    "\n",
    "label = [\"earthquake_4\", \"earthquake_5\", \"earthquake_6\"]\n",
    "plt.bar(left,height, tick_label=label, align=\"center\")"
   ]
  },
  {
   "cell_type": "code",
   "execution_count": 189,
   "metadata": {},
   "outputs": [
    {
     "data": {
      "text/plain": [
       "<BarContainer object of 6 artists>"
      ]
     },
     "execution_count": 189,
     "metadata": {},
     "output_type": "execute_result"
    },
    {
     "data": {
      "image/png": "[encoded data removed]",
      "text/plain": [
       "<Figure size 432x288 with 1 Axes>"
      ]
     },
     "metadata": {
      "needs_background": "light"
     },
     "output_type": "display_data"
    }
   ],
   "source": [
    "import matplotlib as plt\n",
    "import pandas as pd\n",
    "import numpy as np\n",
    "import matplotlib.pyplot as plt\n",
    " \n",
    "df=pd.read_csv('地震元データ1997.csv',encoding='shift_jis')\n",
    "\n",
    "ue=df[df['地震の発生日'].str.startswith('1925')]\n",
    "ue=ue[ue['Ｍ']!='不明']\n",
    "rty=ue[ue['最大震度'].str.contains('１|２|３|４|５|６')]\n",
    "rty['最大震度']\n",
    "df_s = rty.sort_values('最大震度')['最大震度']\n",
    "vc = df_s.value_counts() \n",
    "\n",
    "height= np.array([vc['震度１'],vc['震度２'],vc['震度３'],vc['震度４'], vc['震度５'], vc['震度６']])\n",
    "left  = np.array([1, 2, 3, 4, 5, 6])\n",
    "plt.bar(left,height)\n",
    "\n",
    "label = [\"quake_1\", \"quake_2\", \"quake_3\", \"quake_4\", \"quake_5\", \"quake_6\"]\n",
    "\n",
    "plt.tight_layout()\n",
    "plt.bar(left,height, tick_label=label, align=\"center\")"
   ]
  },
  {
   "cell_type": "code",
   "execution_count": 219,
   "metadata": {},
   "outputs": [
    {
     "data": {
      "text/plain": [
       "<BarContainer object of 4 artists>"
      ]
     },
     "execution_count": 219,
     "metadata": {},
     "output_type": "execute_result"
    },
    {
     "data": {
      "image/png": "[encoded data removed]",
      "text/plain": [
       "<Figure size 432x288 with 1 Axes>"
      ]
     },
     "metadata": {
      "needs_background": "light"
     },
     "output_type": "display_data"
    }
   ],
   "source": [
    "import matplotlib as plt\n",
    "import pandas as pd\n",
    "import numpy as np\n",
    "import matplotlib.pyplot as plt\n",
    " \n",
    "df=pd.read_csv('地震元データ1997.csv',encoding='shift_jis')\n",
    "\n",
    "ue=df[df['地震の発生日'].str.startswith('1925')]\n",
    "ue=ue[ue['Ｍ']!='不明']\n",
    "rty=ue[ue['最大震度'].str.contains('１|２|３|４|５|６')]\n",
    "rts=rty['Ｍ']\n",
    "df_s = rts.sort_values()\n",
    "#print(df_s)\n",
    "\n",
    "vc= df_s.value_counts() \n",
    "#print(vc)\n",
    "\n",
    "height= np.array([vc['4' ],vc['5.1'],vc['6'],vc['7']])\n",
    "left  = np.array([4.0, 5.1, 6.0, 7.0])\n",
    "label = ['quake_1', 'quake_2', \"quake_3\", 'quake_4']\n",
    "\n",
    "plt.bar(left,height)"
   ]
  },
  {
   "cell_type": "code",
   "execution_count": null,
   "metadata": {},
   "outputs": [],
   "source": []
  }
 ],
 "metadata": {
  "kernelspec": {
   "display_name": "Python 3",
   "language": "python",
   "name": "python3"
  },
  "language_info": {
   "codemirror_mode": {
    "name": "ipython",
    "version": 3
   },
   "file_extension": ".py",
   "mimetype": "text/x-python",
   "name": "python",
   "nbconvert_exporter": "python",
   "pygments_lexer": "ipython3",
   "version": "3.8.5"
  }
 },
 "nbformat": 4,
 "nbformat_minor": 4
}
